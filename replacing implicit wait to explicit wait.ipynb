{
 "cells": [
  {
   "cell_type": "code",
   "execution_count": 19,
   "id": "08c2e94a",
   "metadata": {},
   "outputs": [],
   "source": [
    "from selenium import webdriver\n",
    "from selenium.webdriver.common.by import By\n",
    "from selenium.webdriver.support.ui import Select\n",
    "import time\n",
    "from selenium.webdriver.support.ui import WebDriverWait\n",
    "from selenium.webdriver.support import expected_conditions as EC"
   ]
  },
  {
   "cell_type": "code",
   "execution_count": 20,
   "id": "3351a735",
   "metadata": {},
   "outputs": [
    {
     "name": "stderr",
     "output_type": "stream",
     "text": [
      "C:\\Users\\subha\\AppData\\Local\\Temp\\ipykernel_2072\\2227156710.py:3: DeprecationWarning: executable_path has been deprecated, please pass in a Service object\n",
      "  driver=webdriver.Chrome(path)\n"
     ]
    }
   ],
   "source": [
    "web='https://www.audible.in/adblbestsellers?ref=a_search_t1_navTop_pl1cg0c1r0&pf_rd_p=88b2dc24-01ab-437a-bf8e-1faf3da486fb&pf_rd_r=N0KVZ7X532DRR7FKNHBH&pageLoadId=yhLwzrj54zAluCwK&creativeId=2e6787a2-0cd0-4a6e-afe0-05766cd505e5'\n",
    "path=r'\"C:\\Users\\subha\\OneDrive\\Desktop\\chromedriver.exe\"'\n",
    "driver=webdriver.Chrome(path)\n",
    "driver.get(web)\n",
    "driver.maximize_window()"
   ]
  },
  {
   "cell_type": "code",
   "execution_count": 21,
   "id": "ff6e1c86",
   "metadata": {},
   "outputs": [],
   "source": [
    "#pagination\n",
    "pagination=driver.find_element(By.XPATH,('//ul[contains(@class,\"pagingElements\")]'))\n",
    "pages=pagination.find_elements(By.TAG_NAME,('li'))\n",
    "last_page=int(pages[-2].text)"
   ]
  },
  {
   "cell_type": "code",
   "execution_count": 22,
   "id": "5cae03e0",
   "metadata": {},
   "outputs": [],
   "source": [
    "current_page=1\n",
    "\n",
    "book_title=[]\n",
    "book_author=[]\n",
    "book_length=[]\n",
    "\n",
    "while current_page <= last_page:\n",
    "    time.sleep(3)\n",
    "    container=WebDriverWait(driver ,5).until(EC.presence_of_element_located((By.CLASS_NAME, 'adbl-impression-container')))\n",
    "    products=WebDriverWait(container ,5).until(EC.presence_of_all_elements_located((By.XPATH, \".//li[contains(@class ,'productListItem')]\")))\n",
    "\n",
    "    for product in products:\n",
    "        book_title.append(product.find_element(By.XPATH,'.//h3[contains(@class,\"bc-heading\")]').text)\n",
    "        book_author.append(product.find_element(By.XPATH,\".//li[contains(@class,'authorLabel')]\").text)\n",
    "        book_length.append(product.find_element(By.XPATH,\".//li[contains(@class,'runtimeLabel')]\").text)\n",
    "    \n",
    "    current_page=current_page+1\n",
    "    \n",
    "    try:\n",
    "        next_page=driver.find_element(By.XPATH,'//span[contains(@class,\"nextButton\")]')\n",
    "        next_page.click()\n",
    "    except:\n",
    "        pass\n",
    "    \n",
    "driver.quit()\n"
   ]
  },
  {
   "cell_type": "code",
   "execution_count": 23,
   "id": "725f7e25",
   "metadata": {},
   "outputs": [],
   "source": [
    "import pandas as pd\n",
    "books=pd.DataFrame({'title':book_title,'author':book_author,'duration':book_length})\n",
    "books.to_csv('all_books_explicitwait.csv',index=False)"
   ]
  },
  {
   "cell_type": "code",
   "execution_count": null,
   "id": "8881d4cd",
   "metadata": {},
   "outputs": [],
   "source": []
  },
  {
   "cell_type": "code",
   "execution_count": null,
   "id": "abf23f3d",
   "metadata": {},
   "outputs": [],
   "source": []
  },
  {
   "cell_type": "code",
   "execution_count": null,
   "id": "79e3c464",
   "metadata": {},
   "outputs": [],
   "source": []
  }
 ],
 "metadata": {
  "kernelspec": {
   "display_name": "Python 3 (ipykernel)",
   "language": "python",
   "name": "python3"
  },
  "language_info": {
   "codemirror_mode": {
    "name": "ipython",
    "version": 3
   },
   "file_extension": ".py",
   "mimetype": "text/x-python",
   "name": "python",
   "nbconvert_exporter": "python",
   "pygments_lexer": "ipython3",
   "version": "3.9.7"
  }
 },
 "nbformat": 4,
 "nbformat_minor": 5
}
